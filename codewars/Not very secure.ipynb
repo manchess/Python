{
 "cells": [
  {
   "cell_type": "markdown",
   "id": "crucial-paste",
   "metadata": {},
   "source": [
    "In this example you have to validate if a user input string is alphanumeric. The given string is not nil/null/NULL/None, so you don't have to check that.\n",
    "\n",
    "The string has the following conditions to be alphanumeric:\n",
    "\n",
    "**At least one character (\"\" is not valid).**\n",
    "\n",
    "**Allowed characters are uppercase / lowercase latin letters and digits from 0 to 9.**\n",
    "\n",
    "**No whitespaces / underscore**\n"
   ]
  },
  {
   "cell_type": "code",
   "execution_count": 8,
   "id": "friendly-sacramento",
   "metadata": {},
   "outputs": [],
   "source": [
    "def alphanumeric(password):\n",
    "    return password.isalnum()\n",
    "\n",
    "def"
   ]
  }
 ],
 "metadata": {
  "kernelspec": {
   "display_name": "Python 3",
   "language": "python",
   "name": "python3"
  },
  "language_info": {
   "codemirror_mode": {
    "name": "ipython",
    "version": 3
   },
   "file_extension": ".py",
   "mimetype": "text/x-python",
   "name": "python",
   "nbconvert_exporter": "python",
   "pygments_lexer": "ipython3",
   "version": "3.8.8"
  }
 },
 "nbformat": 4,
 "nbformat_minor": 5
}
