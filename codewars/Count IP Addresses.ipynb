{
 "cells": [
  {
   "cell_type": "markdown",
   "id": "loose-snowboard",
   "metadata": {},
   "source": [
    "Implement a function that receives two IPv4 addresses, and returns the number of addresses between them (including the first one, excluding the last one).\n",
    "\n",
    "All inputs will be valid IPv4 addresses in the form of strings. The last address will always be greater than the first one.\n",
    "\n",
    "Examples\n",
    "\n",
    "ips_between(\"10.0.0.0\", \"10.0.0.50\")  ==   50 \n",
    "\n",
    "ips_between(\"10.0.0.0\", \"10.0.1.0\")   ==  256 \n",
    "\n",
    "ips_between(\"20.0.0.10\", \"20.0.1.0\")  ==  246\n",
    "\n"
   ]
  },
  {
   "cell_type": "code",
   "execution_count": 175,
   "id": "posted-hampton",
   "metadata": {
    "scrolled": true
   },
   "outputs": [
    {
     "data": {
      "text/plain": [
       "65536"
      ]
     },
     "execution_count": 175,
     "metadata": {},
     "output_type": "execute_result"
    }
   ],
   "source": [
    "def ips_between(start, end):\n",
    "    \"\"\" Return the number of addresses between 'start' and 'end' \"\"\"\n",
    "    \n",
    "    # Separamos los numeros y convertimos a lista de int\n",
    "    start = list(map(int, start.split(\".\")))\n",
    "    end = list(map(int, end.split(\".\")))\n",
    "\n",
    "    # Lista de tuplas donde hacemos la diferencia entre pares\n",
    "    lista_tuplas = list(zip(end, start))\n",
    "    dif_lista = [t[0] - t[1] for t in lista_tuplas]\n",
    "    \n",
    "    # Tomamos el ultimo numero de dif_lista y lo sumamos al total\n",
    "    #  0 . 0 . 0 . 50 <= end\n",
    "    # -\n",
    "    #  0 . 0 . 0 . 0 <= start\n",
    "    #_______________\n",
    "    #  0 . 0 . 0 . 50 <= dif_lista\n",
    "    total = dif_lista[-1]\n",
    "    \n",
    "    \"\"\"\n",
    "    Ejemplos \n",
    "    ips_between(\"0.0.0.0\", \"0.0.0.50\") => 50\n",
    "    ips_between(\"0.0.0.0\", \"0.0.1.0\") => 256\n",
    "    ips_between(\"0.0.0.0\", \"0.0.2.0\") => 512\n",
    "    \n",
    "    La dirección IPv4 es un número de 32 bits \n",
    "    \n",
    "    Una dirección IPv4 se escribe en dígitos decimales, y \n",
    "    se divide en cuatro campos de 8 bits separados por puntos\n",
    "    \n",
    "    Como cada campo es de 8 bits es decir tenemos 2**8 = 256 elecciones posibles por cada campo\n",
    "    \n",
    "    Podriamos tener\n",
    "    0.0.0.0 ~ 0.0.0.255 => Primeras 256 ips\n",
    "    Si sumamos 1 a esta queda 0.0.1.0 (el segundo ejemplo)\n",
    "    \n",
    "    Ahora para esta direccion ip tenemos este rango\n",
    "    0.0.1.0 ~ 0.0.1.255 -> 256 nuevas ips\n",
    "\n",
    "    Entonces para la ip 0.1.0.0 tendriamos que haber pasado por 0.0.255.255 = 256**2\n",
    "    \"\"\"\n",
    "    \n",
    "    for i, v in enumerate(dif_lista[-2::-1], 1):\n",
    "        if v != 0:\n",
    "            total += 256**i * v\n",
    "        \n",
    "    return total\n",
    "\n",
    "ips_between(\"0.0.0.0\", \"0.1.0.0\")\n"
   ]
  },
  {
   "cell_type": "markdown",
   "id": "seasonal-spice",
   "metadata": {},
   "source": [
    "## Solucion de otros usuarios\n"
   ]
  },
  {
   "cell_type": "code",
   "execution_count": null,
   "id": "south-wonder",
   "metadata": {},
   "outputs": [],
   "source": [
    "from ipaddress import ip_address\n",
    "\n",
    "def ips_between(start, end):\n",
    "    return int(ip_address(end)) - int(ip_address(start))\n"
   ]
  },
  {
   "cell_type": "code",
   "execution_count": 180,
   "id": "spare-designer",
   "metadata": {},
   "outputs": [
    {
     "data": {
      "text/plain": [
       "256"
      ]
     },
     "execution_count": 180,
     "metadata": {},
     "output_type": "execute_result"
    }
   ],
   "source": [
    "def ips_between(start, end):\n",
    "    n1 = int(''.join(f'{n:08b}' for n in map(int, start.split('.'))), 2)\n",
    "    n2 = int(''.join(f'{n:08b}' for n in map(int, end.split('.'))), 2)\n",
    "    return n2 - n1\n",
    "ips_between(\"0.0.0.0\", \"0.0.1.0\")\n"
   ]
  },
  {
   "cell_type": "code",
   "execution_count": 186,
   "id": "completed-phoenix",
   "metadata": {},
   "outputs": [
    {
     "name": "stdout",
     "output_type": "stream",
     "text": [
      "00000000000000000000000000000000 00000000000000000000000100000000\n"
     ]
    }
   ],
   "source": [
    "def ips_between(start, end):\n",
    "    n1 = ''.join(f'{n:08b}' for n in map(int, start.split('.')))\n",
    "    n2 = ''.join(f'{n:08b}' for n in map(int, end.split('.')))\n",
    "    print(n1, n2)\n",
    "ips_between(\"0.0.0.0\", \"0.0.1.0\")"
   ]
  }
 ],
 "metadata": {
  "kernelspec": {
   "display_name": "Python 3",
   "language": "python",
   "name": "python3"
  },
  "language_info": {
   "codemirror_mode": {
    "name": "ipython",
    "version": 3
   },
   "file_extension": ".py",
   "mimetype": "text/x-python",
   "name": "python",
   "nbconvert_exporter": "python",
   "pygments_lexer": "ipython3",
   "version": "3.8.8"
  }
 },
 "nbformat": 4,
 "nbformat_minor": 5
}
