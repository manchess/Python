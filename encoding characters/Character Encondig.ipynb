{
 "cells": [
  {
   "cell_type": "markdown",
   "id": "further-supplement",
   "metadata": {},
   "source": [
    "### Para este trabajo vamos a usar archivos tomados de [Kaggle](https://www.kaggle.com/rtatman/character-encoding-examples/activity)\n",
    "\n",
    "#### Contiene una variedad de archivos .txt en diferente codificacion a UTF-8, la idea de este trabajo es transformarlos a todos a UTF-8\n",
    "\n",
    "### Importamos las librerias necesarias"
   ]
  },
  {
   "cell_type": "code",
   "execution_count": 1,
   "id": "strong-summit",
   "metadata": {},
   "outputs": [],
   "source": [
    "import pandas as pd\n",
    "from chardet import detect\n",
    "import os\n",
    "\n",
    "# Los archivos transformados los guardamos en la carpeta input/utf-8\n",
    "if not os.path.exists(\"input/utf-8\"):\n",
    "    os.mkdir(\"input/utf-8/\")"
   ]
  },
  {
   "cell_type": "code",
   "execution_count": 2,
   "id": "infrared-creek",
   "metadata": {},
   "outputs": [
    {
     "data": {
      "text/html": [
       "<div>\n",
       "<style scoped>\n",
       "    .dataframe tbody tr th:only-of-type {\n",
       "        vertical-align: middle;\n",
       "    }\n",
       "\n",
       "    .dataframe tbody tr th {\n",
       "        vertical-align: top;\n",
       "    }\n",
       "\n",
       "    .dataframe thead th {\n",
       "        text-align: right;\n",
       "    }\n",
       "</style>\n",
       "<table border=\"1\" class=\"dataframe\">\n",
       "  <thead>\n",
       "    <tr style=\"text-align: right;\">\n",
       "      <th></th>\n",
       "      <th>File</th>\n",
       "      <th>Text</th>\n",
       "      <th>Author</th>\n",
       "      <th>Encoding</th>\n",
       "      <th>Language</th>\n",
       "      <th>Words</th>\n",
       "    </tr>\n",
       "  </thead>\n",
       "  <tbody>\n",
       "    <tr>\n",
       "      <th>0</th>\n",
       "      <td>die_ISO-8859-1.txt</td>\n",
       "      <td>Die Fürstin</td>\n",
       "      <td>Kasimir Edschmid</td>\n",
       "      <td>ISO-8859-1</td>\n",
       "      <td>German</td>\n",
       "      <td>13314</td>\n",
       "    </tr>\n",
       "    <tr>\n",
       "      <th>1</th>\n",
       "      <td>harpers_ASCII.txt</td>\n",
       "      <td>Harper's Round Table, October 8, 1895</td>\n",
       "      <td>Various</td>\n",
       "      <td>ASCII</td>\n",
       "      <td>English</td>\n",
       "      <td>29094</td>\n",
       "    </tr>\n",
       "    <tr>\n",
       "      <th>2</th>\n",
       "      <td>olaf_Windows-1251.txt</td>\n",
       "      <td>Olaf van Geldern</td>\n",
       "      <td>Pencho Slaveykov</td>\n",
       "      <td>Windows 1251</td>\n",
       "      <td>Bulgarian</td>\n",
       "      <td>2790</td>\n",
       "    </tr>\n",
       "    <tr>\n",
       "      <th>3</th>\n",
       "      <td>portugal_ISO-8859-1.txt</td>\n",
       "      <td>Portugal enfermo por vicios, e abusos de ambos...</td>\n",
       "      <td>José Daniel Rodrigues da Costa</td>\n",
       "      <td>ISO-8859-1</td>\n",
       "      <td>Portuguese</td>\n",
       "      <td>14215</td>\n",
       "    </tr>\n",
       "    <tr>\n",
       "      <th>4</th>\n",
       "      <td>shisei_UTF-8.txt</td>\n",
       "      <td>Shisei</td>\n",
       "      <td>Junichiro Tanizaki</td>\n",
       "      <td>UTF-8</td>\n",
       "      <td>Japanese</td>\n",
       "      <td>4809</td>\n",
       "    </tr>\n",
       "    <tr>\n",
       "      <th>5</th>\n",
       "      <td>yan_BIG-5.txt</td>\n",
       "      <td>Yan shi jia xun</td>\n",
       "      <td>Yan Zhitui</td>\n",
       "      <td>BIG-5</td>\n",
       "      <td>Chinese</td>\n",
       "      <td>2538</td>\n",
       "    </tr>\n",
       "  </tbody>\n",
       "</table>\n",
       "</div>"
      ],
      "text/plain": [
       "                      File                                               Text  \\\n",
       "0       die_ISO-8859-1.txt                                        Die Fürstin   \n",
       "1        harpers_ASCII.txt              Harper's Round Table, October 8, 1895   \n",
       "2    olaf_Windows-1251.txt                                   Olaf van Geldern   \n",
       "3  portugal_ISO-8859-1.txt  Portugal enfermo por vicios, e abusos de ambos...   \n",
       "4         shisei_UTF-8.txt                                             Shisei   \n",
       "5            yan_BIG-5.txt                                    Yan shi jia xun   \n",
       "\n",
       "                           Author      Encoding    Language  Words  \n",
       "0                Kasimir Edschmid    ISO-8859-1      German  13314  \n",
       "1                         Various         ASCII     English  29094  \n",
       "2                Pencho Slaveykov  Windows 1251   Bulgarian   2790  \n",
       "3  José Daniel Rodrigues da Costa    ISO-8859-1  Portuguese  14215  \n",
       "4              Junichiro Tanizaki         UTF-8    Japanese   4809  \n",
       "5                      Yan Zhitui         BIG-5     Chinese   2538  "
      ]
     },
     "execution_count": 2,
     "metadata": {},
     "output_type": "execute_result"
    }
   ],
   "source": [
    "# Leemos el archivo csv que nos da un par de informacion\n",
    "archivos_df = pd.read_csv(\"input/file_guide.csv\")\n",
    "archivos_df"
   ]
  },
  {
   "cell_type": "code",
   "execution_count": 3,
   "id": "impossible-colors",
   "metadata": {},
   "outputs": [
    {
     "name": "stdout",
     "output_type": "stream",
     "text": [
      "['input/die_ISO-8859-1.txt', 'input/harpers_ASCII.txt', 'input/olaf_Windows-1251.txt', 'input/portugal_ISO-8859-1.txt', 'input/shisei_UTF-8.txt', 'input/yan_BIG-5.txt']\n"
     ]
    }
   ],
   "source": [
    "# Creo una lista con los nombres de los archivos a transformar usando el DataFrame archivos_df\n",
    "files = archivos_df.File.to_list()\n",
    "# Agregamos el sufijo input/ que es el directorio donde tenemos los archivos\n",
    "files = [\"input/\" + file for file in files]\n",
    "print(files)"
   ]
  },
  {
   "cell_type": "code",
   "execution_count": 21,
   "id": "documented-permission",
   "metadata": {},
   "outputs": [],
   "source": [
    "# Esta lista la usamos para saber la codificacion de cada archivo\n",
    "formatos = []\n",
    "\n",
    "# Primero leemos cada archivo para adivinar su codificacion\n",
    "for file in files:\n",
    "    with open(file, mode=\"rb\") as f:\n",
    "        contenido = f.read()\n",
    "        formato = detect(contenido)\n",
    "        formatos.append(formato[\"encoding\"])\n",
    "\n",
    "# Ahora leemos de nuevo cada archivo con la codificacion correcta\n",
    "for i in range(len(files)):\n",
    "    file = files[i]\n",
    "    codificacion = formatos[i]\n",
    "    \n",
    "    # Leemos el archivo y guardamos en utf-8\n",
    "    with open(file, encoding=codificacion) as f:\n",
    "        contenido = f.read()\n",
    "        # file[:6] es el prefijo \"input/\"\n",
    "        new_file = file[:6] + \"utf-8/\" + file[6:]\n",
    "        \n",
    "        with open(new_file, \"w+\", encoding=\"utf-8\") as nf:\n",
    "            nf.write(contenido)\n"
   ]
  },
  {
   "cell_type": "code",
   "execution_count": 22,
   "id": "located-parliament",
   "metadata": {
    "scrolled": true
   },
   "outputs": [
    {
     "name": "stdout",
     "output_type": "stream",
     "text": [
      "['input/die_ISO-8859-1.txt', 'input/harpers_ASCII.txt', 'input/olaf_Windows-1251.txt', 'input/portugal_ISO-8859-1.txt', 'input/shisei_UTF-8.txt', 'input/yan_BIG-5.txt']\n"
     ]
    }
   ],
   "source": [
    "# Cargamos una lista con los archivos en input/utf-8\n",
    "files_to_read = archivos_df.File.to_list()\n",
    "files_to_read = [\"input/utf-8/\" + file for file in files_to_read]\n",
    "print(files)"
   ]
  },
  {
   "cell_type": "code",
   "execution_count": 23,
   "id": "compatible-regard",
   "metadata": {},
   "outputs": [
    {
     "name": "stdout",
     "output_type": "stream",
     "text": [
      "input/utf-8/die_ISO-8859-1.txt\n",
      "The Project Gutenberg EBook of Die Fürstin, by Kasimir Edschmid\n",
      "\n",
      "This eBook is for the use of anyone\n",
      "input/utf-8/harpers_ASCII.txt\n",
      "Project Gutenberg's Harper's Round Table, October 8, 1895, by Various\n",
      "\n",
      "This eBook is for the use of \n",
      "input/utf-8/olaf_Windows-1251.txt\n",
      "The Project Gutenberg EBook of Olaf van Geldern, by Pencho Slaveykov\n",
      "(#1 in our series by Pencho Sla\n",
      "input/utf-8/portugal_ISO-8859-1.txt\n",
      "The Project Gutenberg EBook of Portugal enfermo por vicios, e abusos de\n",
      "ambos os sexos, by José Dani\n",
      "input/utf-8/shisei_UTF-8.txt\n",
      "The Project Gutenberg EBook of Shisei, by Junichiro Tanizaki\n",
      "\n",
      "This eBook is for the use of anyone an\n",
      "input/utf-8/yan_BIG-5.txt\n",
      "The Project Gutenberg EBook of Yan shi jia xun, by Yan Zhitui\n",
      "#4 in our series by Yan Zhitui\n",
      "\n",
      "Copyri\n"
     ]
    }
   ],
   "source": [
    "# Visualizamos los datos\n",
    "for file in files_to_read:\n",
    "    print(file)\n",
    "    with open(file, mode=\"r\", encoding=\"utf-8\") as archivo:\n",
    "        print(archivo.read(100))"
   ]
  },
  {
   "cell_type": "code",
   "execution_count": null,
   "id": "adjusted-cartridge",
   "metadata": {},
   "outputs": [],
   "source": []
  }
 ],
 "metadata": {
  "kernelspec": {
   "display_name": "Python 3",
   "language": "python",
   "name": "python3"
  },
  "language_info": {
   "codemirror_mode": {
    "name": "ipython",
    "version": 3
   },
   "file_extension": ".py",
   "mimetype": "text/x-python",
   "name": "python",
   "nbconvert_exporter": "python",
   "pygments_lexer": "ipython3",
   "version": "3.8.8"
  }
 },
 "nbformat": 4,
 "nbformat_minor": 5
}
